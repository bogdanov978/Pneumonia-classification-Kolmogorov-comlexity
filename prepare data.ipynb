{
 "cells": [
  {
   "cell_type": "code",
   "execution_count": 12,
   "id": "grand-luxury",
   "metadata": {},
   "outputs": [],
   "source": [
    "import os"
   ]
  },
  {
   "cell_type": "code",
   "execution_count": 13,
   "id": "cultural-bundle",
   "metadata": {},
   "outputs": [],
   "source": [
    "img_size = 512\n",
    "path = os.getcwd() + \"/data/\" + str(img_size)\n",
    "train_path = path + \"/train\"\n",
    "\n",
    "from imgProc import preprocess_img"
   ]
  },
  {
   "cell_type": "code",
   "execution_count": 14,
   "id": "rotary-nicholas",
   "metadata": {},
   "outputs": [
    {
     "name": "stdout",
     "output_type": "stream",
     "text": [
      "1 2 3 4 5 6 7 8 9 10 11 12 13 14 15 16 17 18 19 20 21 22 23 24 25 26 27 28 29 30 31 32 33 34 35 36 37 38 39 40 41 42 43 44 45 46 47 48 49 50 51 52 53 54 55 56 57 58 59 60 61 62 63 64 65 66 67 68 69 70 71 72 73 74 75 76 77 78 79 80 81 82 83 84 85 86 87 88 89 90 91 92 93 94 95 96 97 98 99 100 "
     ]
    }
   ],
   "source": [
    "index = 1\n",
    "label = \"NORMAL\"\n",
    "for img in os.listdir(train_path + \"/raw images/\" + label):\n",
    "    preprocess_img(train_path, train_path + \"/raw images/\" + label + \"/\" + img, img_size, label, str(index))\n",
    "    print(index, end = ' ')\n",
    "    index += 1"
   ]
  },
  {
   "cell_type": "code",
   "execution_count": 15,
   "id": "another-decrease",
   "metadata": {},
   "outputs": [
    {
     "name": "stdout",
     "output_type": "stream",
     "text": [
      "1 2 3 4 5 6 7 8 9 10 11 12 13 14 15 16 17 18 19 20 21 22 23 24 25 26 27 28 29 30 31 32 33 34 35 36 37 38 39 40 41 42 43 44 45 46 47 48 49 50 51 52 53 54 55 56 57 58 59 60 61 62 63 64 65 66 67 68 69 70 71 72 73 74 75 76 77 78 79 80 81 82 83 84 85 86 87 88 89 90 91 92 93 94 95 96 97 98 99 100 "
     ]
    }
   ],
   "source": [
    "index = 1\n",
    "label = \"PNEUMONIA\"\n",
    "for img in os.listdir(train_path + \"/raw images/\" + label):\n",
    "    preprocess_img(train_path, train_path + \"/raw images/\" + label + \"/\" + img, img_size, label, str(index))\n",
    "    print(index, end = ' ')\n",
    "    index += 1"
   ]
  },
  {
   "cell_type": "code",
   "execution_count": null,
   "id": "organized-young",
   "metadata": {},
   "outputs": [],
   "source": []
  }
 ],
 "metadata": {
  "kernelspec": {
   "display_name": "Python 3",
   "language": "python",
   "name": "python3"
  },
  "language_info": {
   "codemirror_mode": {
    "name": "ipython",
    "version": 3
   },
   "file_extension": ".py",
   "mimetype": "text/x-python",
   "name": "python",
   "nbconvert_exporter": "python",
   "pygments_lexer": "ipython3",
   "version": "3.8.5"
  }
 },
 "nbformat": 4,
 "nbformat_minor": 5
}
