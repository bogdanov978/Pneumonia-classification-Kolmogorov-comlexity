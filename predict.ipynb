{
 "cells": [
  {
   "cell_type": "code",
   "execution_count": null,
   "id": "cardiac-softball",
   "metadata": {},
   "outputs": [],
   "source": [
    "import numpy as np\n",
    "import os\n",
    "import py7zr"
   ]
  },
  {
   "cell_type": "code",
   "execution_count": null,
   "id": "julian-sampling",
   "metadata": {},
   "outputs": [],
   "source": [
    "img_size = 512\n",
    "path = os.getcwd() + \"/data/\" + str(img_size)\n",
    "train_path = path + \"/train\"\n",
    "test_path  = path + \"/test\"\n",
    "\n",
    "from imgProc import preprocess_img"
   ]
  },
  {
   "cell_type": "code",
   "execution_count": null,
   "id": "golden-wound",
   "metadata": {},
   "outputs": [],
   "source": [
    "def calc_NCD(KX, y_name, y_label):\n",
    "    KY = os.path.getsize(train_path + \"/archives/\" + y_label + \"/\" + y_name + \".7z\")\n",
    "\n",
    "    x_text = \"\"\n",
    "    with open(test_path + \"/text files/TEST/test.txt\", \"rb\") as f:\n",
    "        x_text = f.read()\n",
    "\n",
    "    y_text = \"\"\n",
    "    with open(train_path + \"/text files/\" + y_label + \"/\" + y_name + \".txt\", \"rb\") as f:\n",
    "        y_text = f.read()\n",
    "\n",
    "    xy_text = x_text + y_text\n",
    "    text_file = open(test_path + \"/text files/TEST/XY.txt\", \"wb\")\n",
    "    text_file.write(xy_text)\n",
    "    text_file.close()\n",
    "\n",
    "    with py7zr.SevenZipFile(test_path + \"/archives/TEST/XY.7z\", 'w') as archive:\n",
    "        archive.write( \"XY.txt\")\n",
    "    \n",
    "    K_XY = os.path.getsize(test_path + \"/archives/TEST/XY.7z\")\n",
    "    \n",
    "    if KX < KY:\n",
    "        min_K = KX\n",
    "        max_K = KY\n",
    "    else:\n",
    "        min_K = KY\n",
    "        max_K = KX\n",
    "        \n",
    "    return (K_XY - min_K) / max_K"
   ]
  },
  {
   "cell_type": "code",
   "execution_count": null,
   "id": "virgin-ivory",
   "metadata": {},
   "outputs": [],
   "source": [
    "def predict(directory, img_path, img_size, normal_size, pneumonia_size):\n",
    "    preprocess_img(directory, img_path, img_size, \"TEST\", \"test\")\n",
    "    KX = os.path.getsize(test_path + \"/archives/TEST/test.7z\")\n",
    "    \n",
    "    P = []\n",
    "    N = []\n",
    "    os.chdir(test_path + \"/text files/TEST\")\n",
    "\n",
    "    for i in range(normal_size):           \n",
    "        N.append(calc_NCD(KX, str(i+1), \"NORMAL\"))\n",
    "\n",
    "    for i in range(pneumonia_size):\n",
    "        P.append(calc_NCD(KX, str(i+1), \"PNEUMONIA\"))\n",
    "        \n",
    "    os.chdir(test_path[:test_path.rfind('/data')])\n",
    "    \n",
    "    if np.mean(N) < np.mean(P):\n",
    "        return 0\n",
    "    else:\n",
    "        return 1"
   ]
  },
  {
   "cell_type": "code",
   "execution_count": null,
   "id": "national-encoding",
   "metadata": {},
   "outputs": [],
   "source": [
    "normal_size = 100\n",
    "pneumonia_size = 100"
   ]
  },
  {
   "cell_type": "code",
   "execution_count": null,
   "id": "broad-victim",
   "metadata": {
    "scrolled": true
   },
   "outputs": [],
   "source": [
    "label = \"NORMAL\"\n",
    "count = 0\n",
    "summ = 0 # сумма всех положительных вердиктов алгоритма, при классификации снимков без пневмонии \n",
    "         # равна числу ложноположительных вердиктов (FP)\n",
    "for img in os.listdir(test_path + \"/raw images/\" + label):\n",
    "    result = predict(\n",
    "        test_path, \n",
    "        test_path + \"/raw images/\" + label + \"/\" + img, \n",
    "        img_size, \n",
    "        normal_size, \n",
    "        pneumonia_size\n",
    "        )\n",
    "    summ += result\n",
    "    print(result)\n",
    "    count += 1"
   ]
  },
  {
   "cell_type": "code",
   "execution_count": null,
   "id": "smooth-channels",
   "metadata": {},
   "outputs": [],
   "source": [
    "print(count, summ)"
   ]
  },
  {
   "cell_type": "code",
   "execution_count": null,
   "id": "southeast-benjamin",
   "metadata": {},
   "outputs": [],
   "source": [
    "label = \"PNEUMONIA\"\n",
    "count = 0\n",
    "summ = 0 # сумма всех положительных вердиктов алгоритма, при классификации снимков с пневмонией\n",
    "         # равна числу истинно положительных вердиктов (TP)\n",
    "\n",
    "for img in os.listdir(test_path + \"/raw images/\" + label):\n",
    "    result = predict(\n",
    "        test_path, \n",
    "        test_path + \"/raw images/\" + label + \"/\" + img, \n",
    "        img_size, \n",
    "        normal_size, \n",
    "        pneumonia_size\n",
    "        )\n",
    "    summ += result\n",
    "    print(result)\n",
    "    count += 1"
   ]
  },
  {
   "cell_type": "code",
   "execution_count": null,
   "id": "hindu-repeat",
   "metadata": {},
   "outputs": [],
   "source": [
    "print(count, summ)"
   ]
  },
  {
   "cell_type": "code",
   "execution_count": null,
   "id": "spectacular-comedy",
   "metadata": {},
   "outputs": [],
   "source": []
  }
 ],
 "metadata": {
  "kernelspec": {
   "display_name": "Python 3",
   "language": "python",
   "name": "python3"
  },
  "language_info": {
   "codemirror_mode": {
    "name": "ipython",
    "version": 3
   },
   "file_extension": ".py",
   "mimetype": "text/x-python",
   "name": "python",
   "nbconvert_exporter": "python",
   "pygments_lexer": "ipython3",
   "version": "3.8.5"
  }
 },
 "nbformat": 4,
 "nbformat_minor": 5
}
